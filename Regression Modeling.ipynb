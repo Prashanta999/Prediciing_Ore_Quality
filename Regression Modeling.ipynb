{
 "cells": [
  {
   "cell_type": "markdown",
   "id": "ce917e91",
   "metadata": {},
   "source": [
    "## Import Data"
   ]
  },
  {
   "cell_type": "code",
   "execution_count": 3,
   "id": "329ce8e8",
   "metadata": {
    "execution": {
     "iopub.execute_input": "2021-08-29T19:17:41.596734Z",
     "iopub.status.busy": "2021-08-29T19:17:41.596435Z",
     "iopub.status.idle": "2021-08-29T19:17:43.192877Z",
     "shell.execute_reply": "2021-08-29T19:17:43.192234Z",
     "shell.execute_reply.started": "2021-08-29T19:17:41.596703Z"
    }
   },
   "outputs": [],
   "source": [
    "import pandas as pd\n",
    "import numpy as np\n",
    "import matplotlib.pyplot as plt\n",
    "import seaborn as sns\n",
    "import datetime"
   ]
  },
  {
   "cell_type": "code",
   "execution_count": 4,
   "id": "8393d1b9",
   "metadata": {
    "execution": {
     "iopub.execute_input": "2021-08-29T19:17:44.825953Z",
     "iopub.status.busy": "2021-08-29T19:17:44.825660Z",
     "iopub.status.idle": "2021-08-29T19:17:44.900590Z",
     "shell.execute_reply": "2021-08-29T19:17:44.889932Z",
     "shell.execute_reply.started": "2021-08-29T19:17:44.825924Z"
    }
   },
   "outputs": [],
   "source": [
    "df2 = pd.read_csv('Data_grouped_by_data.csv')"
   ]
  },
  {
   "cell_type": "code",
   "execution_count": 6,
   "id": "87b64b02",
   "metadata": {
    "execution": {
     "iopub.execute_input": "2021-08-29T19:17:52.759713Z",
     "iopub.status.busy": "2021-08-29T19:17:52.759475Z",
     "iopub.status.idle": "2021-08-29T19:17:52.778490Z",
     "shell.execute_reply": "2021-08-29T19:17:52.776926Z",
     "shell.execute_reply.started": "2021-08-29T19:17:52.759689Z"
    }
   },
   "outputs": [
    {
     "name": "stdout",
     "output_type": "stream",
     "text": [
      "<class 'pandas.core.frame.DataFrame'>\n",
      "RangeIndex: 4097 entries, 0 to 4096\n",
      "Data columns (total 24 columns):\n",
      " #   Column                        Non-Null Count  Dtype  \n",
      "---  ------                        --------------  -----  \n",
      " 0   date                          4097 non-null   object \n",
      " 1   % Iron Feed                   4097 non-null   float64\n",
      " 2   % Silica Feed                 4097 non-null   float64\n",
      " 3   Starch Flow                   4097 non-null   float64\n",
      " 4   Amina Flow                    4097 non-null   float64\n",
      " 5   Ore Pulp Flow                 4097 non-null   float64\n",
      " 6   Ore Pulp pH                   4097 non-null   float64\n",
      " 7   Ore Pulp Density              4097 non-null   float64\n",
      " 8   Flotation Column 01 Air Flow  4097 non-null   float64\n",
      " 9   Flotation Column 02 Air Flow  4097 non-null   float64\n",
      " 10  Flotation Column 03 Air Flow  4097 non-null   float64\n",
      " 11  Flotation Column 04 Air Flow  4097 non-null   float64\n",
      " 12  Flotation Column 05 Air Flow  4097 non-null   float64\n",
      " 13  Flotation Column 06 Air Flow  4097 non-null   float64\n",
      " 14  Flotation Column 07 Air Flow  4097 non-null   float64\n",
      " 15  Flotation Column 01 Level     4097 non-null   float64\n",
      " 16  Flotation Column 02 Level     4097 non-null   float64\n",
      " 17  Flotation Column 03 Level     4097 non-null   float64\n",
      " 18  Flotation Column 04 Level     4097 non-null   float64\n",
      " 19  Flotation Column 05 Level     4097 non-null   float64\n",
      " 20  Flotation Column 06 Level     4097 non-null   float64\n",
      " 21  Flotation Column 07 Level     4097 non-null   float64\n",
      " 22  % Iron Concentrate            4097 non-null   float64\n",
      " 23  % Silica Concentrate          4097 non-null   float64\n",
      "dtypes: float64(23), object(1)\n",
      "memory usage: 768.3+ KB\n"
     ]
    }
   ],
   "source": [
    "df2.info()"
   ]
  },
  {
   "cell_type": "markdown",
   "id": "c77009fb",
   "metadata": {
    "execution": {
     "iopub.execute_input": "2021-08-29T19:02:06.729778Z",
     "iopub.status.busy": "2021-08-29T19:02:06.728899Z",
     "iopub.status.idle": "2021-08-29T19:02:07.186994Z",
     "shell.execute_reply": "2021-08-29T19:02:07.174044Z",
     "shell.execute_reply.started": "2021-08-29T19:02:06.729637Z"
    }
   },
   "source": [
    "## Baseline model with Regression "
   ]
  },
  {
   "cell_type": "markdown",
   "id": "b3e95086",
   "metadata": {},
   "source": [
    "### A) Predicting Iron Concentrate "
   ]
  },
  {
   "cell_type": "code",
   "execution_count": null,
   "id": "1b53428f",
   "metadata": {},
   "outputs": [],
   "source": [
    "#creating baseline model to predict iron concentrate & silica concentrate\n",
    "X = df2.iloc[:,1:22]\n",
    "Y = df2['% Iron Concentrate']\n",
    "\n",
    "# split X and y into training and testing sets \n",
    "import sklearn.model_selection as model_selection\n",
    "\n",
    "X_train,X_test,y_train,y_test = model_selection.train_test_split(X,Y,train_size=0.75,test_size=0.25,random_state=123)\n",
    "\n",
    "# import libraries\n",
    "from sklearn.linear_model import LinearRegression\n",
    "\n",
    "#initialize and fit training dataset\n",
    "model = LinearRegression()\n",
    "model.fit(X_train, y_train)\n",
    "\n",
    "#make prediction \n",
    "y_pred = model.predict(X_test)\n",
    "\n",
    "from sklearn.metrics import mean_absolute_error\n",
    "from sklearn.metrics import r2_score\n",
    "from sklearn.metrics import mean_squared_error\n",
    "\n",
    "MAE = mean_absolute_error(y_test,y_pred)\n",
    "R2 = r2_score(y_test,y_pred)\n",
    "MSE = mean_squared_error(y_test,y_pred)\n",
    "\n",
    "#prints the model scores for your test dataset\n",
    "print(\"Baseline Model Iron Concentrate\")\n",
    "print(\"Train R2 Score:\", round(model.score(X_train,y_train),3))\n",
    "print(\"MAE Score:\", round(MAE,3))\n",
    "print(\"MSE Score:\", round(MSE,3))\n",
    "print(\"Test R2 Score:\", round(R2,3))\n",
    "\n",
    "#make graph to compare R2\n",
    "graph = pd.DataFrame(\n",
    "        {\n",
    "            'actual':y_test,\n",
    "            'predicted':y_pred\n",
    "        }\n",
    ")\n",
    "graph\n",
    "\n",
    "sns.regplot(x='predicted',y='actual',data=graph,label='R2:'+ str(round(r2_score(y_test,y_pred),3)))\n",
    "plt.legend(loc=0)\n",
    "plt.show()\n",
    "\n",
    "# Most important coefficients\n",
    "a = X.columns.tolist()\n",
    "b = model.coef_\n",
    "c = pd.DataFrame({\"features\":a, \"Coefficient\":b})\n",
    "print('\\n'+'Most Important Features:')\n",
    "c.sort_values(by='Coefficient', ascending=False, key = abs).head(5)"
   ]
  },
  {
   "cell_type": "markdown",
   "id": "4ca5d39c",
   "metadata": {},
   "source": [
    "### B) Predicting Silica Concentrate "
   ]
  },
  {
   "cell_type": "code",
   "execution_count": null,
   "id": "7d2204c9",
   "metadata": {},
   "outputs": [],
   "source": [
    "#creating baseline model to predict iron concentrate & silica concentrate\n",
    "X = df2.iloc[:,1:22]\n",
    "Y = df2['% Silica Concentrate']\n",
    "\n",
    "# split X and y into training and testing sets \n",
    "import sklearn.model_selection as model_selection\n",
    "\n",
    "X_train,X_test,y_train,y_test = model_selection.train_test_split(X,Y,train_size=0.75,test_size=0.25,random_state=123)\n",
    "\n",
    "# import libraries\n",
    "from sklearn.linear_model import LinearRegression\n",
    "\n",
    "#initialize and fit training dataset\n",
    "model = LinearRegression()\n",
    "model.fit(X_train, y_train)\n",
    "\n",
    "#make prediction \n",
    "y_pred = model.predict(X_test)\n",
    "\n",
    "from sklearn.metrics import mean_absolute_error\n",
    "from sklearn.metrics import r2_score\n",
    "from sklearn.metrics import mean_squared_error\n",
    "\n",
    "MAE = mean_absolute_error(y_test,y_pred)\n",
    "R2 = r2_score(y_test,y_pred)\n",
    "MSE = mean_squared_error(y_test,y_pred)\n",
    "\n",
    "#prints the model scores for your test dataset\n",
    "print(\"Baseline Model Silica Concentrate\")\n",
    "print(\"Train R2 Score:\", round(model.score(X_train,y_train),3))\n",
    "print(\"MAE Score:\", round(MAE,3))\n",
    "print(\"MSE Score:\", round(MSE,3))\n",
    "print(\"Test R2 Score:\", round(R2,3))\n",
    "\n",
    "#make a graph for R2\n",
    "graph = pd.DataFrame(\n",
    "        {\n",
    "            'actual':y_test,\n",
    "            'predicted':y_pred\n",
    "        }\n",
    ")\n",
    "graph\n",
    "\n",
    "sns.regplot(x='predicted',y='actual',data=graph,label='R2:'+ str(round(r2_score(y_test,y_pred),3)))\n",
    "plt.legend(loc=0)\n",
    "plt.show()\n",
    "\n",
    "# Most important coefficients\n",
    "a = X.columns.tolist()\n",
    "b = model.coef_\n",
    "c = pd.DataFrame({\"features\":a, \"Coefficient\":b})\n",
    "\n",
    "print('\\n'+'Most Important Features:')\n",
    "c.sort_values(by='Coefficient', ascending=False, key = abs).head(5)"
   ]
  },
  {
   "cell_type": "markdown",
   "id": "301d1b7b",
   "metadata": {},
   "source": [
    "## Normalize Data "
   ]
  },
  {
   "cell_type": "code",
   "execution_count": null,
   "id": "6c82e69a",
   "metadata": {},
   "outputs": [],
   "source": [
    "df2 = df.groupby(by='date').mean().reset_index()\n",
    "\n",
    "#feature enginnering\n",
    "df2['total airflow'] = df2.iloc[:,7:14].sum(axis=1)\n",
    "df2['total level'] = df2.iloc[:,14:21].sum(axis=1)\n",
    "df2.drop(columns='date',inplace = True)\n",
    "\n",
    "# Normalize and Log data\n",
    "from sklearn.preprocessing import PowerTransformer\n",
    "from sklearn.preprocessing import StandardScaler\n",
    "\n",
    "# Initilize \n",
    "pt = PowerTransformer()\n",
    "ss = StandardScaler()\n",
    "\n",
    "#Power Transform -> Silica Feed, Silica Concentrate, Total Level\n",
    "#Standard Scaler -> Everthing else\n",
    "pt_data = df2[['% Silica Feed', '% Silica Concentrate', 'total level']]\n",
    "ss_data = df2.drop(columns=['% Silica Feed','% Silica Concentrate','total level'])\n",
    "\n",
    "#fit_transform data\n",
    "df2_pt = pd.DataFrame(pt.fit_transform(pt_data), columns = pt_data.columns)\n",
    "df2_ss = pd.DataFrame(ss.fit_transform(ss_data), columns = ss_data.columns)\n",
    "\n",
    "#combine data - df3 become normalized df2 data\n",
    "df3 = pd.concat([df2_pt,df2_ss], axis=1)"
   ]
  },
  {
   "cell_type": "markdown",
   "id": "ff8ac33c",
   "metadata": {},
   "source": [
    "## Poly Reg Model"
   ]
  },
  {
   "cell_type": "markdown",
   "id": "f642ec08",
   "metadata": {},
   "source": [
    "### A) Predicting Iron Concentrate "
   ]
  },
  {
   "cell_type": "code",
   "execution_count": null,
   "id": "1a066351",
   "metadata": {},
   "outputs": [],
   "source": [
    "#creating baseline model to predict iron concentrate & silica concentrate\n",
    "Y = df3['% Iron Concentrate']\n",
    "X = df3.drop(columns=['% Iron Concentrate','% Silica Concentrate'])\n",
    "\n",
    "# split X and y into training and testing sets \n",
    "import sklearn.model_selection as model_selection\n",
    "\n",
    "X_train,X_test,y_train,y_test = model_selection.train_test_split(X,Y,train_size=0.75,test_size=0.25,random_state=123)\n",
    "\n",
    "# import libraries\n",
    "from sklearn.preprocessing import PolynomialFeatures\n",
    "from sklearn.pipeline import make_pipeline\n",
    "\n",
    "#initialize and fit training dataset\n",
    "model = make_pipeline(PolynomialFeatures(2),LinearRegression())\n",
    "model.fit(X_train,y_train)\n",
    "\n",
    "#make prediction \n",
    "y_pred = model.predict(X_test)\n",
    "\n",
    "from sklearn.metrics import mean_absolute_error\n",
    "from sklearn.metrics import r2_score\n",
    "from sklearn.metrics import mean_squared_error\n",
    "\n",
    "MAE = mean_absolute_error(y_test,y_pred)\n",
    "R2 = r2_score(y_test,y_pred)\n",
    "MSE = mean_squared_error(y_test,y_pred)\n",
    "\n",
    "#prints the model scores for your test dataset\n",
    "print(\"Train R2 Score:\", round(model.score(X_train,y_train),3))\n",
    "print(\"MAE Score:\", round(MAE,3))\n",
    "print(\"MSE Score:\", round(MSE,3))\n",
    "print(\"Test R2 Score:\", round(R2,3))\n",
    "\n",
    "#make a graph for R2\n",
    "graph = pd.DataFrame(\n",
    "        {\n",
    "            'actual':y_test,\n",
    "            'predicted':y_pred\n",
    "        }\n",
    ")\n",
    "graph\n",
    "\n",
    "sns.regplot(x='predicted',y='actual',data=graph,label='R2:'+ str(round(r2_score(y_test,y_pred),3)))\n",
    "plt.legend(loc=0)\n",
    "plt.show()\n",
    "\n",
    "# Most important coefficients\n",
    "#a = X.columns.tolist()\n",
    "#b = model.coef_\n",
    "#c = pd.DataFrame({\"features\":a, \"Coefficient\":b})\n",
    "\n",
    "print('\\n'+'Most Important Features:')\n",
    "c.sort_values(by='Coefficient', ascending=False, key = abs).head(5)"
   ]
  },
  {
   "cell_type": "markdown",
   "id": "6431b2e8",
   "metadata": {},
   "source": [
    "### B) Predicting Iron Concentrate"
   ]
  },
  {
   "cell_type": "code",
   "execution_count": null,
   "id": "9a412f79",
   "metadata": {},
   "outputs": [],
   "source": [
    "#creating baseline model to predict iron concentrate & silica concentrate\n",
    "Y = df3['% Silica Concentrate']\n",
    "X = df3.drop(columns=['% Iron Concentrate','% Silica Concentrate'])\n",
    "\n",
    "# split X and y into training and testing sets \n",
    "import sklearn.model_selection as model_selection\n",
    "\n",
    "X_train,X_test,y_train,y_test = model_selection.train_test_split(X,Y,train_size=0.75,test_size=0.25,random_state=123)\n",
    "\n",
    "# import libraries\n",
    "from sklearn.preprocessing import PolynomialFeatures\n",
    "from sklearn.pipeline import make_pipeline\n",
    "\n",
    "#initialize and fit training dataset\n",
    "model = make_pipeline(PolynomialFeatures(2),LinearRegression())\n",
    "model.fit(X_train,y_train)\n",
    "\n",
    "#make prediction \n",
    "y_pred = model.predict(X_test)\n",
    "\n",
    "from sklearn.metrics import mean_absolute_error\n",
    "from sklearn.metrics import r2_score\n",
    "from sklearn.metrics import mean_squared_error\n",
    "\n",
    "MAE = mean_absolute_error(y_test,y_pred)\n",
    "R2 = r2_score(y_test,y_pred)\n",
    "MSE = mean_squared_error(y_test,y_pred)\n",
    "\n",
    "#prints the model scores for your test dataset\n",
    "print(\"Optimized Model Iron Concentrate\")\n",
    "print(\"Train R2 Score:\", round(model.score(X_train,y_train),3))\n",
    "print(\"MAE Score:\", round(MAE,3))\n",
    "print(\"MSE Score:\", round(MSE,3))\n",
    "print(\"Test R2 Score:\", round(R2,3))\n",
    "\n",
    "#make a graph for R2\n",
    "graph = pd.DataFrame(\n",
    "        {\n",
    "            'actual':y_test,\n",
    "            'predicted':y_pred\n",
    "        }\n",
    ")\n",
    "graph\n",
    "\n",
    "sns.regplot(x='predicted',y='actual',data=graph,label='R2:'+ str(round(r2_score(y_test,y_pred),3)))\n",
    "plt.legend(loc=0)\n",
    "plt.show()\n",
    "\n",
    "# Most important coefficients\n",
    "#a = X.columns.tolist()\n",
    "#b = model.coef_\n",
    "#c = pd.DataFrame({\"features\":a, \"Coefficient\":b})\n",
    "\n",
    "print('\\n'+'Most Important Features:')\n",
    "c.sort_values(by='Coefficient', ascending=False, key = abs).head(5)"
   ]
  },
  {
   "cell_type": "markdown",
   "id": "de151b01",
   "metadata": {},
   "source": [
    "# Random Forest ModeL"
   ]
  },
  {
   "cell_type": "markdown",
   "id": "19db118c",
   "metadata": {},
   "source": [
    "### A) Predicting Iron Concentrate "
   ]
  },
  {
   "cell_type": "code",
   "execution_count": null,
   "id": "2147dc41",
   "metadata": {},
   "outputs": [],
   "source": [
    "#creating baseline model to predict iron concentrate & silica concentrate\n",
    "Y = df3['% Iron Concentrate']\n",
    "X = df3.drop(columns=['% Iron Concentrate','% Silica Concentrate'])\n",
    "\n",
    "# split X and y into training and testing sets \n",
    "import sklearn.model_selection as model_selection\n",
    "\n",
    "X_train,X_test,y_train,y_test = model_selection.train_test_split(X,Y,train_size=0.75,test_size=0.25,random_state=123)\n",
    "\n",
    "# import libraries\n",
    "from sklearn.ensemble import RandomForestRegressor\n",
    "\n",
    "#initialize and fit training dataset\n",
    "model = RandomForestRegressor()\n",
    "model.fit(X_train,y_train)\n",
    "\n",
    "#make prediction \n",
    "y_pred = model.predict(X_test)\n",
    "\n",
    "from sklearn.metrics import mean_absolute_error\n",
    "from sklearn.metrics import r2_score\n",
    "from sklearn.metrics import mean_squared_error\n",
    "\n",
    "MAE = mean_absolute_error(y_test,y_pred)\n",
    "R2 = r2_score(y_test,y_pred)\n",
    "MSE = mean_squared_error(y_test,y_pred)\n",
    "\n",
    "#prints the model scores for your test dataset\n",
    "print(\"Train R2 Score:\", round(model.score(X_train,y_train),3))\n",
    "print(\"MAE Score:\", round(MAE,3))\n",
    "print(\"MSE Score:\", round(MSE,3))\n",
    "print(\"Test R2 Score:\", round(R2,3))\n",
    "\n",
    "#make a graph for R2\n",
    "graph = pd.DataFrame(\n",
    "        {\n",
    "            'actual':y_test,\n",
    "            'predicted':y_pred\n",
    "        }\n",
    ")\n",
    "graph\n",
    "\n",
    "sns.regplot(x='predicted',y='actual',data=graph,label='R2:'+ str(round(r2_score(y_test,y_pred),3)))\n",
    "plt.legend(loc=0)\n",
    "plt.show()"
   ]
  },
  {
   "cell_type": "code",
   "execution_count": null,
   "id": "18b9beaf",
   "metadata": {},
   "outputs": [],
   "source": [
    "from sklearn.model_selection import GridSearchCV\n",
    "\n",
    "#define hyperparameters we want to tune\n",
    "param_grid = {\n",
    "    'n_estimators' : [5,10,15,100,150],\n",
    "    'criterion' : ['mse,', 'mae'],\n",
    "    'max_depth' : [5,8,10,12,15]\n",
    "}\n",
    "\n",
    "#instantiate GridSearchCV, fit model, and make prediction\n",
    "model = GridSearchCV(RandomForestRegressor(), param_grid = param_grid, cv = 5)\n",
    "model.fit(X_train, y_train)\n",
    "y_pred = model.predict(X_test)\n",
    "\n",
    "model_results = pd.DataFrame(model.cv_results_)"
   ]
  }
 ],
 "metadata": {
  "kernelspec": {
   "display_name": "Python 3",
   "language": "python",
   "name": "python3"
  },
  "language_info": {
   "codemirror_mode": {
    "name": "ipython",
    "version": 3
   },
   "file_extension": ".py",
   "mimetype": "text/x-python",
   "name": "python",
   "nbconvert_exporter": "python",
   "pygments_lexer": "ipython3",
   "version": "3.8.8"
  }
 },
 "nbformat": 4,
 "nbformat_minor": 5
}
